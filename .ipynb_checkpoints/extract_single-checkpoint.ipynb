{
 "cells": [
  {
   "cell_type": "code",
   "execution_count": 3,
   "metadata": {},
   "outputs": [],
   "source": [
    "import camelot"
   ]
  },
  {
   "cell_type": "code",
   "execution_count": 4,
   "metadata": {},
   "outputs": [],
   "source": [
    "tables = camelot.read_pdf('a.pdf')"
   ]
  },
  {
   "cell_type": "code",
   "execution_count": 5,
   "metadata": {},
   "outputs": [
    {
     "data": {
      "text/plain": [
       "<TableList n=1>"
      ]
     },
     "execution_count": 5,
     "metadata": {},
     "output_type": "execute_result"
    }
   ],
   "source": [
    "tables"
   ]
  },
  {
   "cell_type": "code",
   "execution_count": 6,
   "metadata": {},
   "outputs": [],
   "source": [
    "tables.export('foo.csv', f = 'csv', compress = True)"
   ]
  },
  {
   "cell_type": "code",
   "execution_count": 7,
   "metadata": {},
   "outputs": [
    {
     "data": {
      "text/plain": [
       "<Table shape=(4, 20)>"
      ]
     },
     "execution_count": 7,
     "metadata": {},
     "output_type": "execute_result"
    }
   ],
   "source": [
    "tables[0]"
   ]
  },
  {
   "cell_type": "code",
   "execution_count": 8,
   "metadata": {},
   "outputs": [
    {
     "data": {
      "text/plain": [
       "{'accuracy': 100.0, 'whitespace': 26.25, 'order': 1, 'page': 1}"
      ]
     },
     "execution_count": 8,
     "metadata": {},
     "output_type": "execute_result"
    }
   ],
   "source": [
    "tables[0].parsing_report"
   ]
  },
  {
   "cell_type": "code",
   "execution_count": 9,
   "metadata": {},
   "outputs": [],
   "source": [
    "tables[0].to_csv('foo.csv')"
   ]
  },
  {
   "cell_type": "code",
   "execution_count": 10,
   "metadata": {},
   "outputs": [
    {
     "data": {
      "text/html": [
       "<div>\n",
       "<style scoped>\n",
       "    .dataframe tbody tr th:only-of-type {\n",
       "        vertical-align: middle;\n",
       "    }\n",
       "\n",
       "    .dataframe tbody tr th {\n",
       "        vertical-align: top;\n",
       "    }\n",
       "\n",
       "    .dataframe thead th {\n",
       "        text-align: right;\n",
       "    }\n",
       "</style>\n",
       "<table border=\"1\" class=\"dataframe\">\n",
       "  <thead>\n",
       "    <tr style=\"text-align: right;\">\n",
       "      <th></th>\n",
       "      <th>0</th>\n",
       "      <th>1</th>\n",
       "      <th>2</th>\n",
       "      <th>3</th>\n",
       "      <th>4</th>\n",
       "      <th>5</th>\n",
       "      <th>6</th>\n",
       "      <th>7</th>\n",
       "      <th>8</th>\n",
       "      <th>9</th>\n",
       "      <th>10</th>\n",
       "      <th>11</th>\n",
       "      <th>12</th>\n",
       "      <th>13</th>\n",
       "      <th>14</th>\n",
       "      <th>15</th>\n",
       "      <th>16</th>\n",
       "      <th>17</th>\n",
       "      <th>18</th>\n",
       "      <th>19</th>\n",
       "    </tr>\n",
       "  </thead>\n",
       "  <tbody>\n",
       "    <tr>\n",
       "      <th>0</th>\n",
       "      <td></td>\n",
       "      <td>Sample\\nName</td>\n",
       "      <td>Name</td>\n",
       "      <td>Batch_No.</td>\n",
       "      <td>Vial</td>\n",
       "      <td>Inj</td>\n",
       "      <td>Inj.\\nVol.\\n(uL)</td>\n",
       "      <td>Ch.\\nNo.</td>\n",
       "      <td>Std\\nWeight</td>\n",
       "      <td>Std_\\nDilnFactor</td>\n",
       "      <td>Std_\\nWC_LOD</td>\n",
       "      <td>Std_\\nAvg_Area</td>\n",
       "      <td>Potency</td>\n",
       "      <td>Sample\\nWeight</td>\n",
       "      <td>Dilution</td>\n",
       "      <td>Spl_wc\\nLOD_Solv</td>\n",
       "      <td>Avgwt\\n_wtml</td>\n",
       "      <td>Sample\\nArea\\n(µV*sec)</td>\n",
       "      <td>Assay</td>\n",
       "      <td>Result\\nId</td>\n",
       "    </tr>\n",
       "    <tr>\n",
       "      <th>1</th>\n",
       "      <td>1 2</td>\n",
       "      <td>Cefpodoxime Proxetil IP_1/1</td>\n",
       "      <td>sum</td>\n",
       "      <td>CDPNF18040</td>\n",
       "      <td>5 5</td>\n",
       "      <td>1 1</td>\n",
       "      <td>20.00</td>\n",
       "      <td>11</td>\n",
       "      <td>50.010</td>\n",
       "      <td>0.00050</td>\n",
       "      <td>0.00000</td>\n",
       "      <td>418014</td>\n",
       "      <td>744.300</td>\n",
       "      <td>51.1300</td>\n",
       "      <td>2000.0000</td>\n",
       "      <td>2.29000</td>\n",
       "      <td>1.00000</td>\n",
       "      <td>390029</td>\n",
       "      <td>695.178</td>\n",
       "      <td>18883</td>\n",
       "    </tr>\n",
       "    <tr>\n",
       "      <th>2</th>\n",
       "      <td></td>\n",
       "      <td>Cefpodoxime Proxetil IP_1/2</td>\n",
       "      <td>sum</td>\n",
       "      <td>CDPNF18040</td>\n",
       "      <td></td>\n",
       "      <td></td>\n",
       "      <td>20.00</td>\n",
       "      <td>12</td>\n",
       "      <td>50.010</td>\n",
       "      <td>0.00050</td>\n",
       "      <td>0.00000</td>\n",
       "      <td>418014</td>\n",
       "      <td>744.300</td>\n",
       "      <td>51.1300</td>\n",
       "      <td>2000.0000</td>\n",
       "      <td>2.29000</td>\n",
       "      <td>1.00000</td>\n",
       "      <td>389827</td>\n",
       "      <td>694.819</td>\n",
       "      <td>18884</td>\n",
       "    </tr>\n",
       "    <tr>\n",
       "      <th>3</th>\n",
       "      <td>Mean</td>\n",
       "      <td></td>\n",
       "      <td></td>\n",
       "      <td></td>\n",
       "      <td></td>\n",
       "      <td></td>\n",
       "      <td></td>\n",
       "      <td></td>\n",
       "      <td></td>\n",
       "      <td></td>\n",
       "      <td></td>\n",
       "      <td></td>\n",
       "      <td></td>\n",
       "      <td></td>\n",
       "      <td></td>\n",
       "      <td></td>\n",
       "      <td></td>\n",
       "      <td>389928</td>\n",
       "      <td>695.0</td>\n",
       "      <td></td>\n",
       "    </tr>\n",
       "  </tbody>\n",
       "</table>\n",
       "</div>"
      ],
      "text/plain": [
       "     0                            1     2           3     4    5   \\\n",
       "0                       Sample\\nName  Name   Batch_No.  Vial  Inj   \n",
       "1   1 2  Cefpodoxime Proxetil IP_1/1   sum  CDPNF18040   5 5  1 1   \n",
       "2        Cefpodoxime Proxetil IP_1/2   sum  CDPNF18040              \n",
       "3  Mean                                                             \n",
       "\n",
       "                 6         7            8                 9             10  \\\n",
       "0  Inj.\\nVol.\\n(uL)  Ch.\\nNo.  Std\\nWeight  Std_\\nDilnFactor  Std_\\nWC_LOD   \n",
       "1             20.00        11       50.010           0.00050       0.00000   \n",
       "2             20.00        12       50.010           0.00050       0.00000   \n",
       "3                                                                            \n",
       "\n",
       "               11       12              13         14                15  \\\n",
       "0  Std_\\nAvg_Area  Potency  Sample\\nWeight   Dilution  Spl_wc\\nLOD_Solv   \n",
       "1          418014  744.300         51.1300  2000.0000           2.29000   \n",
       "2          418014  744.300         51.1300  2000.0000           2.29000   \n",
       "3                                                                         \n",
       "\n",
       "             16                      17       18          19  \n",
       "0  Avgwt\\n_wtml  Sample\\nArea\\n(µV*sec)    Assay  Result\\nId  \n",
       "1       1.00000                  390029  695.178       18883  \n",
       "2       1.00000                  389827  694.819       18884  \n",
       "3                                389928    695.0              "
      ]
     },
     "execution_count": 10,
     "metadata": {},
     "output_type": "execute_result"
    }
   ],
   "source": [
    "data = tables[0].df\n",
    "data"
   ]
  },
  {
   "cell_type": "code",
   "execution_count": 11,
   "metadata": {},
   "outputs": [
    {
     "data": {
      "text/plain": [
       "'Cefpodoxime Proxetil IP_1/1'"
      ]
     },
     "execution_count": 11,
     "metadata": {},
     "output_type": "execute_result"
    }
   ],
   "source": [
    "sample_names = data[1][1] # [col][row]\n",
    "test = data[1][2]\n",
    "sample_names"
   ]
  },
  {
   "cell_type": "code",
   "execution_count": 12,
   "metadata": {},
   "outputs": [
    {
     "data": {
      "text/plain": [
       "'Cefpodoxime Proxetil IP_1/2'"
      ]
     },
     "execution_count": 12,
     "metadata": {},
     "output_type": "execute_result"
    }
   ],
   "source": [
    "test"
   ]
  },
  {
   "cell_type": "code",
   "execution_count": 13,
   "metadata": {},
   "outputs": [],
   "source": [
    "d = dict([(data[1][1], data[18][1]), (data[1][2], data[18][2])])"
   ]
  },
  {
   "cell_type": "code",
   "execution_count": 14,
   "metadata": {},
   "outputs": [
    {
     "data": {
      "text/plain": [
       "{'Cefpodoxime Proxetil IP_1/1': '695.178',\n",
       " 'Cefpodoxime Proxetil IP_1/2': '694.819'}"
      ]
     },
     "execution_count": 14,
     "metadata": {},
     "output_type": "execute_result"
    }
   ],
   "source": [
    "d"
   ]
  },
  {
   "cell_type": "code",
   "execution_count": 35,
   "metadata": {},
   "outputs": [],
   "source": [
    "class Sample:\n",
    "  def __init__(self,sample_name, name):\n",
    "    self.sample_name = sample_name\n",
    "    self.name = name\n",
    "    \n",
    "  def get_sample_name(self):\n",
    "    return self.sample_name\n",
    "\n",
    "  def get_name(self):\n",
    "    return self.name "
   ]
  },
  {
   "cell_type": "code",
   "execution_count": 30,
   "metadata": {},
   "outputs": [],
   "source": [
    "one = Sample(data[1][1], data[2][1])\n",
    "two = Sample(data[1][2], data[18][2])\n",
    "dd = dict([( one, data[18][1]),  (two, data[18][2])])"
   ]
  },
  {
   "cell_type": "code",
   "execution_count": 33,
   "metadata": {},
   "outputs": [
    {
     "data": {
      "text/plain": [
       "'Cefpodoxime Proxetil IP_1/1'"
      ]
     },
     "execution_count": 33,
     "metadata": {},
     "output_type": "execute_result"
    }
   ],
   "source": [
    "one.get_sample_name()"
   ]
  },
  {
   "cell_type": "code",
   "execution_count": 34,
   "metadata": {},
   "outputs": [
    {
     "data": {
      "text/plain": [
       "'sum'"
      ]
     },
     "execution_count": 34,
     "metadata": {},
     "output_type": "execute_result"
    }
   ],
   "source": [
    "one.get_name()"
   ]
  }
 ],
 "metadata": {
  "kernelspec": {
   "display_name": "Python 3",
   "language": "python",
   "name": "python3"
  },
  "language_info": {
   "codemirror_mode": {
    "name": "ipython",
    "version": 3
   },
   "file_extension": ".py",
   "mimetype": "text/x-python",
   "name": "python",
   "nbconvert_exporter": "python",
   "pygments_lexer": "ipython3",
   "version": "3.6.8"
  }
 },
 "nbformat": 4,
 "nbformat_minor": 2
}
